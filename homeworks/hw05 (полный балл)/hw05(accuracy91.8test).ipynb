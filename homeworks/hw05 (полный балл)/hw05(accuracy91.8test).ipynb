{
  "cells": [
    {
      "cell_type": "code",
      "execution_count": 6,
      "metadata": {
        "colab": {
          "base_uri": "https://localhost:8080/"
        },
        "id": "KSb2EhnwIZsy",
        "outputId": "a10cf3e1-d21d-4502-88d5-0906dfc72947"
      },
      "outputs": [
        {
          "name": "stdout",
          "output_type": "stream",
          "text": [
            "Requirement already satisfied: catboost in /usr/local/lib/python3.11/dist-packages (1.2.8)\n",
            "Requirement already satisfied: graphviz in /usr/local/lib/python3.11/dist-packages (from catboost) (0.20.3)\n",
            "Requirement already satisfied: matplotlib in /usr/local/lib/python3.11/dist-packages (from catboost) (3.10.0)\n",
            "Requirement already satisfied: numpy<3.0,>=1.16.0 in /usr/local/lib/python3.11/dist-packages (from catboost) (2.0.2)\n",
            "Requirement already satisfied: pandas>=0.24 in /usr/local/lib/python3.11/dist-packages (from catboost) (2.2.2)\n",
            "Requirement already satisfied: scipy in /usr/local/lib/python3.11/dist-packages (from catboost) (1.14.1)\n",
            "Requirement already satisfied: plotly in /usr/local/lib/python3.11/dist-packages (from catboost) (5.24.1)\n",
            "Requirement already satisfied: six in /usr/local/lib/python3.11/dist-packages (from catboost) (1.17.0)\n",
            "Requirement already satisfied: python-dateutil>=2.8.2 in /usr/local/lib/python3.11/dist-packages (from pandas>=0.24->catboost) (2.8.2)\n",
            "Requirement already satisfied: pytz>=2020.1 in /usr/local/lib/python3.11/dist-packages (from pandas>=0.24->catboost) (2025.2)\n",
            "Requirement already satisfied: tzdata>=2022.7 in /usr/local/lib/python3.11/dist-packages (from pandas>=0.24->catboost) (2025.2)\n",
            "Requirement already satisfied: contourpy>=1.0.1 in /usr/local/lib/python3.11/dist-packages (from matplotlib->catboost) (1.3.2)\n",
            "Requirement already satisfied: cycler>=0.10 in /usr/local/lib/python3.11/dist-packages (from matplotlib->catboost) (0.12.1)\n",
            "Requirement already satisfied: fonttools>=4.22.0 in /usr/local/lib/python3.11/dist-packages (from matplotlib->catboost) (4.57.0)\n",
            "Requirement already satisfied: kiwisolver>=1.3.1 in /usr/local/lib/python3.11/dist-packages (from matplotlib->catboost) (1.4.8)\n",
            "Requirement already satisfied: packaging>=20.0 in /usr/local/lib/python3.11/dist-packages (from matplotlib->catboost) (24.2)\n",
            "Requirement already satisfied: pillow>=8 in /usr/local/lib/python3.11/dist-packages (from matplotlib->catboost) (11.1.0)\n",
            "Requirement already satisfied: pyparsing>=2.3.1 in /usr/local/lib/python3.11/dist-packages (from matplotlib->catboost) (3.2.3)\n",
            "Requirement already satisfied: tenacity>=6.2.0 in /usr/local/lib/python3.11/dist-packages (from plotly->catboost) (9.1.2)\n"
          ]
        }
      ],
      "source": [
        "!pip install catboost"
      ]
    },
    {
      "cell_type": "code",
      "execution_count": null,
      "metadata": {
        "id": "ITn7Xhv4atER"
      },
      "outputs": [],
      "source": [
        "import pandas as pd\n",
        "import numpy as np\n",
        "from imblearn.over_sampling import SMOTE\n",
        "from sklearn.preprocessing import StandardScaler\n",
        "from sklearn.preprocessing import PowerTransformer\n",
        "from catboost import CatBoostClassifier\n",
        "from sklearn.ensemble import RandomForestClassifier"
      ]
    },
    {
      "cell_type": "code",
      "execution_count": null,
      "metadata": {
        "id": "J_hrbFtAoi9H"
      },
      "outputs": [],
      "source": [
        "train_df = pd.read_csv('train.csv')\n",
        "test_df = pd.read_csv('test.csv')\n",
        "\n",
        "def detect_outliers(df, features):\n",
        "    for feature in features:\n",
        "        Q1 = df[feature].quantile(0.25)\n",
        "        Q3 = df[feature].quantile(0.75)\n",
        "        IQR = Q3 - Q1\n",
        "        lower_bound = Q1 - 1.5 * IQR\n",
        "        upper_bound = Q3 + 1.5 * IQR\n",
        "        outliers = df[(df[feature] < lower_bound) | (df[feature] > upper_bound)]\n",
        "        # Удаление выбросов\n",
        "        df = df[(df[feature] >= lower_bound) & (df[feature] <= upper_bound)]\n",
        "    return df\n",
        "\n",
        "features = train_df.columns[:-1]  # Все признаки кроме target\n",
        "train_df = detect_outliers(train_df, features)\n",
        "\n",
        "# Логарифмирование\n",
        "for col in ['area', 'perimeter', 'major_axis', 'minor_axis', 'convex_area']:\n",
        "    train_df[col] = np.log1p(train_df[col])\n",
        "    test_df[col] = np.log1p(test_df[col])\n",
        "\n",
        "# Обработка асимметрии\n",
        "skew_columns = train_df.skew().sort_values(ascending=False)\n",
        "high_skew = skew_columns[abs(skew_columns) > 0.8].index.tolist()\n",
        "pt = PowerTransformer(method='yeo-johnson')\n",
        "train_df[high_skew] = pt.fit_transform(train_df[high_skew])\n",
        "test_df[high_skew] = pt.fit_transform(test_df[high_skew])\n",
        "\n",
        "# Проверка корреляции с target\n",
        "correlation_matrix = train_df.corr()\n",
        "target_corr = correlation_matrix['target'].sort_values(ascending=False)\n",
        "low_corr_features = target_corr[abs(target_corr) < 0.15].index.tolist()\n",
        "\n",
        "# Удаление признаков с низкой корреляцией\n",
        "train_df = train_df.drop(columns=low_corr_features, errors='ignore')\n",
        "test_df = test_df.drop(columns=low_corr_features, errors='ignore')\n",
        "\n",
        "X = train_df.drop(columns=['target'])\n",
        "y = train_df['target']\n",
        "\n",
        "rf = RandomForestClassifier(random_state=42).fit(X, y)\n",
        "importances = pd.Series(rf.feature_importances_, index=X.columns).sort_values(ascending=False)\n",
        "low_importance = importances[importances < 0.01].index.tolist()\n",
        "\n",
        "# Удаление наименее важных признаков\n",
        "train_df = train_df.drop(columns=low_importance)\n",
        "test_df = test_df.drop(columns=low_importance)\n",
        "\n",
        "train_df['eccentricity_roundness'] = train_df['eccentricity'] * train_df['roundness']\n",
        "test_df['eccentricity_roundness'] = test_df['eccentricity'] * test_df['roundness']\n",
        "\n",
        "train_df['solidity_ratio'] = train_df['area'] / train_df['convex_area']\n",
        "test_df['solidity_ratio'] = test_df['area'] / test_df['convex_area']\n",
        "\n",
        "train_df['shapefactor_1_3'] = train_df['shapefactor_1'] * train_df['shapefactor_3']\n",
        "test_df['shapefactor_1_3'] = test_df['shapefactor_1'] * test_df['shapefactor_3']\n",
        "\n",
        "# Разделение данных\n",
        "X = train_df.drop(columns=['target'])\n",
        "y = train_df['target']\n",
        "X_test = test_df\n",
        "\n",
        "X_train, y_train = X, y\n",
        "\n",
        "scaler = StandardScaler()\n",
        "X_train = scaler.fit_transform(X_train)\n",
        "X_test = scaler.transform(X_test)\n",
        "\n",
        "smote = SMOTE(random_state=42)\n",
        "X_train, y_train = smote.fit_resample(X_train, y_train)"
      ]
    },
    {
      "cell_type": "code",
      "execution_count": 9,
      "metadata": {
        "colab": {
          "base_uri": "https://localhost:8080/"
        },
        "id": "31Ttca6r53LA",
        "outputId": "221d516c-4236-4c96-b6f3-f8892ad580c5"
      },
      "outputs": [
        {
          "name": "stdout",
          "output_type": "stream",
          "text": [
            "Submission file 'answers.csv' created successfully.\n"
          ]
        }
      ],
      "source": [
        "cat_model = CatBoostClassifier(random_state=42, verbose=0)\n",
        "cat_model.fit(X_train, y_train)\n",
        "y_pred_proba = cat_model.predict_proba(X_test)[:, 1]\n",
        "\n",
        "best_threshold = 0.53\n",
        "y_pred_binary = (y_pred_proba >= best_threshold).astype(int)\n",
        "answers_df = pd.DataFrame({'target': y_pred_binary})\n",
        "answers_df.to_csv('answers.csv', index=False, header=False)\n",
        "print(\"Submission file 'answers.csv' created successfully.\")"
      ]
    }
  ],
  "metadata": {
    "colab": {
      "provenance": []
    },
    "kernelspec": {
      "display_name": "Python 3",
      "name": "python3"
    },
    "language_info": {
      "name": "python"
    }
  },
  "nbformat": 4,
  "nbformat_minor": 0
}
