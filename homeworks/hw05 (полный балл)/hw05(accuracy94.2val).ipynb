{
  "cells": [
    {
      "cell_type": "code",
      "execution_count": null,
      "metadata": {
        "id": "ITn7Xhv4atER"
      },
      "outputs": [],
      "source": [
        "import pandas as pd\n",
        "import numpy as np\n",
        "import matplotlib.pyplot as plt\n",
        "import seaborn as sns\n",
        "from imblearn.over_sampling import SMOTE\n",
        "from sklearn.preprocessing import StandardScaler\n",
        "from sklearn.model_selection import train_test_split\n",
        "from sklearn.svm import SVC\n",
        "from sklearn.metrics import accuracy_score"
      ]
    },
    {
      "cell_type": "code",
      "execution_count": 87,
      "metadata": {
        "colab": {
          "base_uri": "https://localhost:8080/"
        },
        "collapsed": true,
        "id": "mHRZXTW-OZ7n",
        "outputId": "1a0c9147-8a44-401b-f139-afd3d198a797"
      },
      "outputs": [
        {
          "name": "stdout",
          "output_type": "stream",
          "text": [
            "area             0\n",
            "perimeter        0\n",
            "major_axis       0\n",
            "minor_axis       0\n",
            "eccentricity     0\n",
            "eqdiasq          0\n",
            "solidity         0\n",
            "convex_area      0\n",
            "extent           0\n",
            "aspect_ratio     0\n",
            "roundness        0\n",
            "compactness      0\n",
            "shapefactor_1    0\n",
            "shapefactor_2    0\n",
            "shapefactor_3    0\n",
            "shapefactor_4    0\n",
            "target           0\n",
            "dtype: int64\n"
          ]
        }
      ],
      "source": [
        "# Загрузка данных\n",
        "train_df = pd.read_csv('train.csv')\n",
        "test_df = pd.read_csv('test.csv')\n",
        "\n",
        "# Проверка на пропущенные значения\n",
        "print(train_df.isnull().sum())"
      ]
    },
    {
      "cell_type": "code",
      "execution_count": 88,
      "metadata": {
        "colab": {
          "base_uri": "https://localhost:8080/"
        },
        "id": "Cf5YUSNkXYmz",
        "outputId": "b9e6ee32-873b-45cc-8088-cf3997670aba"
      },
      "outputs": [
        {
          "data": {
            "text/plain": [
              "(1288, 17)"
            ]
          },
          "execution_count": 88,
          "metadata": {},
          "output_type": "execute_result"
        }
      ],
      "source": [
        "train_df.shape"
      ]
    },
    {
      "cell_type": "code",
      "execution_count": 89,
      "metadata": {
        "colab": {
          "base_uri": "https://localhost:8080/"
        },
        "collapsed": true,
        "id": "c2XUMT71XWWo",
        "outputId": "a05562e6-52a5-4669-a25f-78d2ebb28fcc"
      },
      "outputs": [
        {
          "name": "stdout",
          "output_type": "stream",
          "text": [
            "Outliers in area: 16\n",
            "Outliers in perimeter: 53\n",
            "Outliers in major_axis: 13\n",
            "Outliers in minor_axis: 9\n",
            "Outliers in eccentricity: 25\n",
            "Outliers in eqdiasq: 2\n",
            "Outliers in solidity: 36\n",
            "Outliers in convex_area: 0\n",
            "Outliers in extent: 33\n",
            "Outliers in aspect_ratio: 3\n",
            "Outliers in roundness: 0\n",
            "Outliers in compactness: 0\n",
            "Outliers in shapefactor_1: 2\n",
            "Outliers in shapefactor_2: 13\n",
            "Outliers in shapefactor_3: 0\n",
            "Outliers in shapefactor_4: 51\n"
          ]
        },
        {
          "data": {
            "text/plain": [
              "(1032, 17)"
            ]
          },
          "execution_count": 89,
          "metadata": {},
          "output_type": "execute_result"
        }
      ],
      "source": [
        "def detect_outliers(df, features):\n",
        "    for feature in features:\n",
        "        Q1 = df[feature].quantile(0.25)\n",
        "        Q3 = df[feature].quantile(0.75)\n",
        "        IQR = Q3 - Q1\n",
        "        lower_bound = Q1 - 1.5 * IQR\n",
        "        upper_bound = Q3 + 1.5 * IQR\n",
        "        outliers = df[(df[feature] < lower_bound) | (df[feature] > upper_bound)]\n",
        "        print(f\"Outliers in {feature}: {len(outliers)}\")\n",
        "        # Удаление выбросов\n",
        "        df = df[(df[feature] >= lower_bound) & (df[feature] <= upper_bound)]\n",
        "    return df\n",
        "\n",
        "features = train_df.columns[:-1]  # Все признаки кроме target\n",
        "train_df = detect_outliers(train_df, features)\n",
        "train_df.shape"
      ]
    },
    {
      "cell_type": "code",
      "execution_count": 90,
      "metadata": {
        "id": "OKbfCrnXeV3E"
      },
      "outputs": [],
      "source": [
        "# Генерация новых признаков\n",
        "def generate_features(df):\n",
        "    df['shape_interaction'] = df['shapefactor_1'] * df['shapefactor_3'] / (df['shapefactor_2'])\n",
        "    df['area2'] = (df['area'] + df['perimeter']) / (df['major_axis'] * df['minor_axis'])\n",
        "\n",
        "    return df\n",
        "\n",
        "train_df = generate_features(train_df)\n",
        "test_df = generate_features(test_df)\n"
      ]
    },
    {
      "cell_type": "code",
      "execution_count": 91,
      "metadata": {
        "colab": {
          "base_uri": "https://localhost:8080/",
          "height": 1000
        },
        "id": "sr_-ndYd8jaC",
        "outputId": "67e933a6-7662-4643-e3c5-bd6cdf4cafbc"
      },
      "outputs": [
        {
          "name": "stdout",
          "output_type": "stream",
          "text": [
            "target               1.000000\n",
            "shapefactor_1        0.718632\n",
            "aspect_ratio         0.640905\n",
            "eccentricity         0.639064\n",
            "shapefactor_2        0.180050\n",
            "perimeter           -0.102783\n",
            "major_axis          -0.113618\n",
            "extent              -0.114312\n",
            "roundness           -0.188731\n",
            "shape_interaction   -0.200992\n",
            "area2               -0.219064\n",
            "shapefactor_4       -0.251396\n",
            "solidity            -0.256360\n",
            "convex_area         -0.596171\n",
            "eqdiasq             -0.622677\n",
            "area                -0.626710\n",
            "compactness         -0.679587\n",
            "shapefactor_3       -0.679597\n",
            "minor_axis          -0.712240\n",
            "Name: target, dtype: float64\n"
          ]
        },
        {
          "data": {
            "image/png": "[encoded data removed]",
            "text/plain": [
              "<Figure size 1000x600 with 1 Axes>"
            ]
          },
          "metadata": {},
          "output_type": "display_data"
        }
      ],
      "source": [
        "# Корреляция признаков с таргетом\n",
        "correlation_matrix = train_df.corr()\n",
        "target_corr = correlation_matrix['target'].sort_values(ascending=False)\n",
        "print(target_corr)\n",
        "\n",
        "plt.figure(figsize=(10, 6))\n",
        "sns.barplot(x=target_corr.index, y=target_corr.values)\n",
        "plt.xticks(rotation=90)\n",
        "plt.title(\"Correlation with Target\")\n",
        "plt.show()"
      ]
    },
    {
      "cell_type": "code",
      "execution_count": 92,
      "metadata": {
        "collapsed": true,
        "id": "A1Xq4B4ca5Yy"
      },
      "outputs": [],
      "source": [
        "# Логарифмирование\n",
        "for col in ['area', 'perimeter', 'major_axis', 'minor_axis', 'convex_area']:\n",
        "    train_df[col] = np.log1p(train_df[col])\n",
        "    test_df[col] = np.log1p(test_df[col])\n",
        "\n",
        "# plt.figure(figsize=(30, 30))\n",
        "# for i, col in enumerate(list(train_df.columns)):\n",
        "#     plt.subplot(7, 4, i+1)\n",
        "#     sns.histplot(train_df[col], kde=True, bins=10)"
      ]
    },
    {
      "cell_type": "code",
      "execution_count": 93,
      "metadata": {
        "id": "J_hrbFtAoi9H"
      },
      "outputs": [],
      "source": [
        "from sklearn.preprocessing import PowerTransformer\n",
        "\n",
        "# Обработка асимметрии\n",
        "skew_columns = train_df.skew().sort_values(ascending=False)\n",
        "high_skew = skew_columns[abs(skew_columns) > 0.8].index.tolist()\n",
        "pt = PowerTransformer(method='yeo-johnson')\n",
        "train_df[high_skew] = pt.fit_transform(train_df[high_skew])\n",
        "test_df[high_skew] = pt.fit_transform(test_df[high_skew])"
      ]
    },
    {
      "cell_type": "code",
      "execution_count": 94,
      "metadata": {
        "id": "nCDD4m_5a8dN"
      },
      "outputs": [],
      "source": [
        "# Разделение данных\n",
        "X = train_df.drop(columns=['target'])\n",
        "y = train_df['target']\n",
        "\n",
        "X_test = test_df"
      ]
    },
    {
      "cell_type": "code",
      "execution_count": 95,
      "metadata": {
        "id": "k4SFhW2hfawI"
      },
      "outputs": [],
      "source": [
        "scaler = StandardScaler()\n",
        "\n",
        "X = scaler.fit_transform(X)\n",
        "X = pd.DataFrame(X, columns=train_df.drop(columns=['target']).columns)\n",
        "\n",
        "X_test = scaler.transform(X_test)\n",
        "X_test = pd.DataFrame(X_test, columns=test_df.columns)"
      ]
    },
    {
      "cell_type": "code",
      "execution_count": 96,
      "metadata": {
        "id": "HoiIRG31PL65"
      },
      "outputs": [],
      "source": [
        "X_train, X_val, y_train, y_val = train_test_split(X, y, test_size=0.2, stratify=y, random_state=42)"
      ]
    },
    {
      "cell_type": "code",
      "execution_count": 97,
      "metadata": {
        "colab": {
          "base_uri": "https://localhost:8080/"
        },
        "id": "7yRx3qS4SSi5",
        "outputId": "0004a351-d38b-4c30-be25-c4961b2c45ae"
      },
      "outputs": [
        {
          "name": "stdout",
          "output_type": "stream",
          "text": [
            "target\n",
            "1    476\n",
            "0    349\n",
            "Name: count, dtype: int64\n"
          ]
        }
      ],
      "source": [
        "# Проверка распределения классов\n",
        "print(pd.Series(y_train).value_counts())"
      ]
    },
    {
      "cell_type": "code",
      "execution_count": 98,
      "metadata": {
        "colab": {
          "base_uri": "https://localhost:8080/"
        },
        "id": "xvCwhag6RTE9",
        "outputId": "c07a5d45-85ff-41c6-c68a-42c4d0991d14"
      },
      "outputs": [
        {
          "name": "stdout",
          "output_type": "stream",
          "text": [
            "target\n",
            "0    476\n",
            "1    476\n",
            "Name: count, dtype: int64\n"
          ]
        }
      ],
      "source": [
        "# Применение SMOTE\n",
        "smote = SMOTE(random_state=42)\n",
        "X_train, y_train = smote.fit_resample(X_train, y_train)\n",
        "\n",
        "# Проверка баланса после upsampling\n",
        "print(pd.Series(y_train).value_counts())"
      ]
    },
    {
      "cell_type": "code",
      "execution_count": 99,
      "metadata": {
        "id": "NLZGwrBwlkp6"
      },
      "outputs": [],
      "source": [
        "# Удаление ненужных столбцов\n",
        "columns_to_drop = ['eqdiasq', 'shapefactor_3', 'shapefactor_4', 'area']\n",
        "\n",
        "X_train = X_train.drop(columns=columns_to_drop)\n",
        "X_val = X_val.drop(columns=columns_to_drop)\n",
        "X_test = X_test.drop(columns=columns_to_drop)"
      ]
    },
    {
      "cell_type": "code",
      "execution_count": 100,
      "metadata": {
        "colab": {
          "base_uri": "https://localhost:8080/"
        },
        "id": "XMN4ujGCoPFT",
        "outputId": "edf9a9b0-555c-448f-f0dc-dbe13916b9c7"
      },
      "outputs": [
        {
          "name": "stdout",
          "output_type": "stream",
          "text": [
            "Baseline Accuracy: 0.9324\n",
            "Removing perimeter: Accuracy = 0.9324\n",
            "Removing major_axis: Accuracy = 0.9372\n",
            "Removing minor_axis: Accuracy = 0.9420\n",
            "Removing eccentricity: Accuracy = 0.9420\n",
            "Removing solidity: Accuracy = 0.9372\n",
            "Removing convex_area: Accuracy = 0.9420\n",
            "Removing extent: Accuracy = 0.9227\n",
            "Removing aspect_ratio: Accuracy = 0.9420\n",
            "Removing roundness: Accuracy = 0.9324\n",
            "Removing compactness: Accuracy = 0.9420\n",
            "Removing shapefactor_1: Accuracy = 0.9420\n",
            "Removing shapefactor_2: Accuracy = 0.9420\n",
            "Removing shape_interaction: Accuracy = 0.9130\n",
            "Removing area2: Accuracy = 0.8937\n",
            "Best Accuracy: 0.9420\n",
            "Best features: ['perimeter', 'major_axis', 'eccentricity', 'solidity', 'convex_area', 'extent', 'aspect_ratio', 'roundness', 'compactness', 'shapefactor_1', 'shapefactor_2', 'shape_interaction', 'area2']\n"
          ]
        }
      ],
      "source": [
        "# Исходная accuracy\n",
        "baseline_model = SVC(random_state=42, verbose=0)\n",
        "baseline_model.fit(X_train, y_train)\n",
        "y_pred = baseline_model.predict(X_val)\n",
        "baseline_accuracy = accuracy_score(y_val, y_pred)\n",
        "print(f\"Baseline Accuracy: {baseline_accuracy:.4f}\")\n",
        "\n",
        "# Проверка удаления признаков\n",
        "features_to_test = X_train.columns.tolist()\n",
        "best_accuracy = baseline_accuracy\n",
        "best_features = features_to_test.copy()\n",
        "\n",
        "for feature in features_to_test:\n",
        "    # Удаление одного признака\n",
        "    reduced_X_train = X_train.drop(columns=[feature])\n",
        "    reduced_X_val = X_val.drop(columns=[feature])\n",
        "\n",
        "    # Обучение модели\n",
        "    model = SVC(random_state=42, verbose=0)\n",
        "    model.fit(reduced_X_train, y_train)\n",
        "    y_pred = model.predict(reduced_X_val)\n",
        "    current_accuracy = accuracy_score(y_val, y_pred)\n",
        "\n",
        "    print(f\"Removing {feature}: Accuracy = {current_accuracy:.4f}\")\n",
        "\n",
        "    # Обновление лучшего результата\n",
        "    if current_accuracy > best_accuracy:\n",
        "        best_accuracy = current_accuracy\n",
        "        best_features = reduced_X_train.columns.tolist()\n",
        "\n",
        "print(f\"Best Accuracy: {best_accuracy:.4f}\")\n",
        "print(\"Best features:\", best_features)"
      ]
    },
    {
      "cell_type": "code",
      "execution_count": 101,
      "metadata": {
        "id": "xywDxTOSormQ"
      },
      "outputs": [],
      "source": [
        "# Удаление ненужных столбцов\n",
        "columns_to_drop = ['eccentricity']\n",
        "X_train = X_train.drop(columns=columns_to_drop)\n",
        "X_val = X_val.drop(columns=columns_to_drop)\n",
        "X_test = X_test.drop(columns=columns_to_drop)"
      ]
    },
    {
      "cell_type": "code",
      "execution_count": 102,
      "metadata": {
        "colab": {
          "base_uri": "https://localhost:8080/"
        },
        "id": "R3xXK74Cix8Z",
        "outputId": "54395ad0-d294-40d6-e14a-6b025ce642ca"
      },
      "outputs": [
        {
          "name": "stdout",
          "output_type": "stream",
          "text": [
            "Optimized SVM Accuracy: 0.9420\n"
          ]
        }
      ],
      "source": [
        "svm = SVC(random_state=42, verbose=0)\n",
        "svm.fit(X_train, y_train)\n",
        "y_pred_svm = svm.predict(X_val)\n",
        "accuracy_svm = accuracy_score(y_val, y_pred_svm)\n",
        "print(f\"Optimized SVM Accuracy: {accuracy_svm:.4f}\")"
      ]
    },
    {
      "cell_type": "code",
      "execution_count": 103,
      "metadata": {
        "colab": {
          "base_uri": "https://localhost:8080/"
        },
        "id": "acxpwiGixAeT",
        "outputId": "0f5c2aeb-f2e2-49bf-800b-1ca1dcaef864"
      },
      "outputs": [
        {
          "data": {
            "text/plain": [
              "array([0, 1, 0, 1, 0, 1, 0, 0, 1, 0, 0, 1, 1, 1, 0, 0, 1, 1, 0, 1, 0, 1,\n",
              "       1, 1, 1, 0, 1, 0, 0, 0, 0, 0, 1, 0, 1, 1, 1, 1, 1, 0, 1, 0, 0, 1,\n",
              "       1, 0, 0, 0, 1, 1, 1, 0, 0, 0, 0, 0, 0, 0, 1, 1, 0, 0, 1, 1, 0, 1,\n",
              "       1, 1, 0, 1, 1, 0, 0, 0, 1, 1, 1, 0, 0, 0, 1, 0, 1, 0, 1, 0, 1, 1,\n",
              "       1, 1, 0, 1, 1, 1, 0, 1, 1, 1, 0, 1, 0, 1, 1, 0, 1, 0, 1, 1, 0, 1,\n",
              "       1, 0, 1, 1, 0, 1, 1, 1, 1, 0, 1, 0, 1, 0, 1, 1, 1, 0, 1, 1, 0, 1,\n",
              "       1, 1, 1, 0, 1, 1, 1, 1, 1, 0, 1, 0, 1, 1, 0, 1, 0, 0, 1, 1, 0, 1,\n",
              "       0, 1, 1, 0, 1, 1, 0, 1, 1, 0, 1, 0, 0, 1, 0, 1, 0, 0, 1, 0, 1, 1,\n",
              "       1, 1, 0, 1, 0, 1, 1, 1, 0, 0, 0, 1, 0, 0, 1, 0, 0, 0, 1, 0, 0, 1,\n",
              "       0, 0, 1, 1, 0, 0, 0, 1, 0])"
            ]
          },
          "execution_count": 103,
          "metadata": {},
          "output_type": "execute_result"
        }
      ],
      "source": [
        "y_pred_svm"
      ]
    },
    {
      "cell_type": "code",
      "execution_count": 104,
      "metadata": {
        "colab": {
          "base_uri": "https://localhost:8080/"
        },
        "id": "wo31vd3Pj1B3",
        "outputId": "e3cabc82-f93e-4d15-c591-c8c67f7a6f6d"
      },
      "outputs": [
        {
          "name": "stdout",
          "output_type": "stream",
          "text": [
            "Submission file 'answers.csv' created successfully.\n"
          ]
        }
      ],
      "source": [
        "# Сделать предсказания с помощью обученной модели CatBoost\n",
        "y_pred_test = svm.predict(X_test)\n",
        "\n",
        "answers_df = pd.DataFrame({'target': y_pred_test})\n",
        "answers_df.to_csv('answers.csv', index=False, header=False)\n",
        "\n",
        "print(\"Submission file 'answers.csv' created successfully.\")"
      ]
    }
  ],
  "metadata": {
    "colab": {
      "provenance": []
    },
    "kernelspec": {
      "display_name": "Python 3",
      "name": "python3"
    },
    "language_info": {
      "name": "python"
    }
  },
  "nbformat": 4,
  "nbformat_minor": 0
}
