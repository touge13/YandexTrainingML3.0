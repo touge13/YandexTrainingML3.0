{
  "cells": [
    {
      "cell_type": "markdown",
      "metadata": {
        "id": "FEbmYx4O8Q32"
      },
      "source": [
        "**Мы имеем:**\n",
        "1. Два фильтра из трех.\n",
        "algos.csv: две строки по 9 чисел — уцелевшие фильтры.\n",
        "2. Входные изображения в одноканальном формате\n",
        "Изображения (.png), которые использовались как вход.\n",
        "3. Числовые матрицы — результат применения всех трех фильтров к этим изображениям (в виде .txt файлов, сохранённых через numpy.savetxt).\n",
        "\n",
        "Каждому входному FILENAME.png файлу соответствует выходной FILENAME.txt.\n",
        "\n",
        "\n",
        "Каждый фильтр — это матрица 3×3, применяемая к изображению по скользящему окну:\n",
        "поэлементное произведение окна и фильтра → сумма → в соответствующую ячейку выходной матрицы. Алгоритм последовательно применяет три таких фильтра ко всему изображению.\n",
        "\n",
        "**Задача** — восстановить недостающий фильтр и порядок применения всех трёх.\n",
        "От вас ожидается восстановленный алгоритм в формате reconstructed_algos.csv, содержащем три строки по 9 чисел через запятую, в порядке применения фильтров. Первая строка соответствует первому фильтру, вторая второму, третья третьему.\n",
        "\n",
        "Важно:\n",
        "Точный ответ не требуется: оценивается среднее значение MSE между вашими фильтрами и оригинальными."
      ]
    },
    {
      "cell_type": "code",
      "execution_count": 1,
      "metadata": {
        "collapsed": true,
        "id": "9mVT-jM38bfK"
      },
      "outputs": [],
      "source": [
        "!mkdir best_pictures\n",
        "!tar -xvf best_pictures.tar -C /content/best_pictures/ > /dev/null 2>&1"
      ]
    },
    {
      "cell_type": "code",
      "execution_count": 2,
      "metadata": {
        "id": "d-kl_dkvyC2V"
      },
      "outputs": [],
      "source": [
        "import numpy as np\n",
        "from scipy.signal import correlate2d\n",
        "from PIL import Image\n",
        "import os\n",
        "from itertools import permutations\n",
        "\n",
        "# Загрузка известных фильтров\n",
        "known_filters = np.loadtxt('best_pictures/algos.csv', delimiter=',')\n",
        "F1 = known_filters[0].reshape(3, 3)\n",
        "F2 = known_filters[1].reshape(3, 3)\n",
        "\n",
        "# Загрузка изображений и выходных матриц\n",
        "image_folder = 'best_pictures'\n",
        "output_files = [f for f in os.listdir(image_folder) if f.endswith('.txt') and not f.startswith('.')]\n",
        "\n",
        "file_image_output_pairs = []\n",
        "\n",
        "for f in output_files:\n",
        "    file_index = int(f.split('.')[0])\n",
        "    img_name = f.replace('.txt', '.png')\n",
        "    img_path = os.path.join(image_folder, img_name)\n",
        "\n",
        "    if not os.path.exists(img_path):\n",
        "        continue\n",
        "\n",
        "    img = np.array(Image.open(img_path))\n",
        "    output = np.loadtxt(os.path.join(image_folder, f))\n",
        "\n",
        "    file_image_output_pairs.append((file_index, f, img, output))\n",
        "\n",
        "file_image_output_pairs.sort(key=lambda x: x[0])\n",
        "_, output_files, images, outputs = zip(*file_image_output_pairs)\n",
        "images = list(images)\n",
        "outputs = list(outputs)"
      ]
    },
    {
      "cell_type": "code",
      "execution_count": 3,
      "metadata": {
        "colab": {
          "base_uri": "https://localhost:8080/"
        },
        "id": "Qm8PV1vxyNS1",
        "outputId": "1f3359b4-9617-4e84-d642-df77969e04ef"
      },
      "outputs": [
        {
          "data": {
            "text/plain": [
              "array([[-1. , -0.5,  0. ],\n",
              "       [-0.5,  0.5,  0.5],\n",
              "       [ 0. ,  0.5,  1. ]])"
            ]
          },
          "execution_count": 3,
          "metadata": {},
          "output_type": "execute_result"
        }
      ],
      "source": [
        "F1"
      ]
    },
    {
      "cell_type": "code",
      "execution_count": 4,
      "metadata": {
        "colab": {
          "base_uri": "https://localhost:8080/"
        },
        "id": "Y9Ny08TXyPrZ",
        "outputId": "c1442a50-a7c5-4236-fa4d-a43332a65f4b"
      },
      "outputs": [
        {
          "data": {
            "text/plain": [
              "array([[0.0625, 0.0625, 0.0625],\n",
              "       [0.0625, 0.0625, 0.0625],\n",
              "       [0.0625, 0.0625, 0.0625]])"
            ]
          },
          "execution_count": 4,
          "metadata": {},
          "output_type": "execute_result"
        }
      ],
      "source": [
        "F2"
      ]
    },
    {
      "cell_type": "code",
      "execution_count": 5,
      "metadata": {
        "colab": {
          "base_uri": "https://localhost:8080/"
        },
        "id": "sWk6JMlFjgud",
        "outputId": "0b8f92fc-5c6a-4b7f-f0a5-61b9ddd872a7"
      },
      "outputs": [
        {
          "name": "stdout",
          "output_type": "stream",
          "text": [
            "  Позиция недостающего фильтра: 1\n",
            "  Порядок известных фильтров: [[[-1.0, -0.5, 0.0], [-0.5, 0.5, 0.5], [0.0, 0.5, 1.0]], [[0.0625, 0.0625, 0.0625], [0.0625, 0.0625, 0.0625], [0.0625, 0.0625, 0.0625]]]\n",
            "  MSE: 59.9379764618162\n",
            "  Найдено улучшение!\n",
            "  Позиция недостающего фильтра: 1\n",
            "  Порядок известных фильтров: [[[0.0625, 0.0625, 0.0625], [0.0625, 0.0625, 0.0625], [0.0625, 0.0625, 0.0625]], [[-1.0, -0.5, 0.0], [-0.5, 0.5, 0.5], [0.0, 0.5, 1.0]]]\n",
            "  MSE: 2.074458684118623e-26\n",
            "  Найдено улучшение!\n",
            "  Позиция недостающего фильтра: 2\n",
            "  Порядок известных фильтров: [[[-1.0, -0.5, 0.0], [-0.5, 0.5, 0.5], [0.0, 0.5, 1.0]], [[0.0625, 0.0625, 0.0625], [0.0625, 0.0625, 0.0625], [0.0625, 0.0625, 0.0625]]]\n",
            "  MSE: 59.9379764618162\n",
            "  Позиция недостающего фильтра: 2\n",
            "  Порядок известных фильтров: [[[0.0625, 0.0625, 0.0625], [0.0625, 0.0625, 0.0625], [0.0625, 0.0625, 0.0625]], [[-1.0, -0.5, 0.0], [-0.5, 0.5, 0.5], [0.0, 0.5, 1.0]]]\n",
            "  MSE: 2.074458684118623e-26\n",
            "  Позиция недостающего фильтра: 3\n",
            "  Порядок известных фильтров: [[[-1.0, -0.5, 0.0], [-0.5, 0.5, 0.5], [0.0, 0.5, 1.0]], [[0.0625, 0.0625, 0.0625], [0.0625, 0.0625, 0.0625], [0.0625, 0.0625, 0.0625]]]\n",
            "  MSE: 59.9379764618162\n",
            "  Позиция недостающего фильтра: 3\n",
            "  Порядок известных фильтров: [[[0.0625, 0.0625, 0.0625], [0.0625, 0.0625, 0.0625], [0.0625, 0.0625, 0.0625]], [[-1.0, -0.5, 0.0], [-0.5, 0.5, 0.5], [0.0, 0.5, 1.0]]]\n",
            "  MSE: 2.074458684118623e-26\n",
            "Лучший MSE: 2.074458684118623e-26\n",
            "Найденные фильтры:\n",
            "Фильтр 1:\n",
            "[[0.125 0.25  0.125]\n",
            " [0.25  0.5   0.25 ]\n",
            " [0.125 0.25  0.125]]\n",
            "Фильтр 2:\n",
            "[[0.0625 0.0625 0.0625]\n",
            " [0.0625 0.0625 0.0625]\n",
            " [0.0625 0.0625 0.0625]]\n",
            "Фильтр 3:\n",
            "[[-1.  -0.5  0. ]\n",
            " [-0.5  0.5  0.5]\n",
            " [ 0.   0.5  1. ]]\n"
          ]
        }
      ],
      "source": [
        "def build_and_solve(images, outputs, filter_sequence):\n",
        "    A_list = []\n",
        "    b_list = []\n",
        "    for X, Y in zip(images, outputs):\n",
        "        B = X.astype(np.float64)\n",
        "        for f in filter_sequence:\n",
        "            if f is not None:\n",
        "                B = correlate2d(B, f, mode='same')\n",
        "        H, W = Y.shape\n",
        "        for i in range(1, H-1):\n",
        "            for j in range(1, W-1):\n",
        "                window = B[i-1:i+2, j-1:j+2]\n",
        "                A_list.append(window.flatten())\n",
        "                b_list.append(Y[i, j])\n",
        "    A = np.array(A_list)\n",
        "    b = np.array(b_list)\n",
        "    f_missing, res, _, _ = np.linalg.lstsq(A, b, rcond=None)\n",
        "    mse = np.mean((A @ f_missing - b) ** 2)\n",
        "    return f_missing.reshape(3, 3), mse\n",
        "\n",
        "best_mse = np.inf\n",
        "best_filters = None\n",
        "\n",
        "# Перебор всех возможных позиций недостающего фильтра\n",
        "for missing_pos in [0, 1, 2]:\n",
        "    # Генерация всех возможных последовательностей с недостающим фильтром\n",
        "    for perm in permutations([F1, F2]):\n",
        "        # Создаем шаблон с недостающим фильтром\n",
        "        current_seq = []\n",
        "        known_idx = 0\n",
        "        for i in range(3):\n",
        "            if i == missing_pos:\n",
        "                current_seq.append(None)\n",
        "            else:\n",
        "                current_seq.append(perm[known_idx])\n",
        "                known_idx += 1\n",
        "\n",
        "        # Решаем для текущей гипотезы\n",
        "        missing_f, mse = build_and_solve(images, outputs, current_seq)\n",
        "\n",
        "        # Формируем полную последовательность фильтров\n",
        "        final_seq = []\n",
        "        for f in current_seq:\n",
        "            if f is None:\n",
        "                final_seq.append(missing_f.flatten())\n",
        "            else:\n",
        "                final_seq.append(f.flatten())\n",
        "\n",
        "        # Вывод текущего состояния\n",
        "        print(f\"  Позиция недостающего фильтра: {missing_pos + 1}\")\n",
        "        print(f\"  Порядок известных фильтров: {[f.tolist() for f in perm]}\")\n",
        "        print(f\"  MSE: {mse}\")\n",
        "\n",
        "        # Обновляем лучший результат\n",
        "        if mse < best_mse:\n",
        "            print(\"  Найдено улучшение!\")\n",
        "            best_mse = mse\n",
        "            best_filters = final_seq\n",
        "\n",
        "# Вывод результатов\n",
        "print(f\"Лучший MSE: {best_mse}\")\n",
        "print(\"Найденные фильтры:\")\n",
        "for i, filt in enumerate(best_filters):\n",
        "    print(f\"Фильтр {i+1}:\\n{filt.reshape(3,3)}\")"
      ]
    },
    {
      "cell_type": "code",
      "execution_count": 6,
      "metadata": {
        "colab": {
          "base_uri": "https://localhost:8080/"
        },
        "id": "9RURBIes3TmU",
        "outputId": "662d3bd4-d1b0-40df-b660-dad031eafae8"
      },
      "outputs": [
        {
          "data": {
            "text/plain": [
              "array([0.125, 0.25 , 0.125, 0.25 , 0.5  , 0.25 , 0.125, 0.25 , 0.125])"
            ]
          },
          "execution_count": 6,
          "metadata": {},
          "output_type": "execute_result"
        }
      ],
      "source": [
        "F3 = best_filters[0]\n",
        "F3"
      ]
    },
    {
      "cell_type": "markdown",
      "metadata": {
        "id": "dE64HjTL5JBS"
      },
      "source": [
        "Тут выводится округленное число, настоящий результат работы алгоритма:\n",
        "\n",
        "```array([[0.124999999999999375,0.250000000000004885,0.124999999999997016],[0.249999999999996891,0.500000000000001887,0.250000000000001055],[0.124999999999999001,0.250000000000000555,0.124999999999999598]])```"
      ]
    },
    {
      "cell_type": "code",
      "execution_count": 40,
      "metadata": {
        "colab": {
          "base_uri": "https://localhost:8080/"
        },
        "id": "rgSBoU4Yp8l6",
        "outputId": "2e870266-a88e-4ab0-aaec-78f91d9203a6"
      },
      "outputs": [
        {
          "name": "stdout",
          "output_type": "stream",
          "text": [
            "[[ 324.81640625  364.234375    353.43359375 ...  326.73828125\n",
            "   229.59765625   33.4296875 ]\n",
            " [ 339.8203125   287.3828125   229.90234375 ...  166.51953125\n",
            "    54.49609375 -134.234375  ]\n",
            " [ 289.40234375  188.03515625  113.96484375 ...   55.84765625\n",
            "   -46.609375   -207.77734375]\n",
            " ...\n",
            " [ 227.94921875  131.46875      66.82421875 ...   20.4140625\n",
            "   -33.46484375 -130.69140625]\n",
            " [ 158.03125      54.953125     -8.49609375 ...  -30.85546875\n",
            "   -69.5234375  -135.56640625]\n",
            " [  23.84765625  -83.91796875 -141.98828125 ... -111.99609375\n",
            "  -124.3828125  -131.65234375]]\n"
          ]
        }
      ],
      "source": [
        "def apply_convolution(image, filters):\n",
        "    result = image.astype(np.float64)\n",
        "    for f in filters:\n",
        "        result = correlate2d(result, f.astype(np.float64), mode='same')\n",
        "    return result\n",
        "\n",
        "np.set_printoptions(precision=15, suppress=False)\n",
        "\n",
        "F3 = np.array([[0.124999999999999375,0.250000000000004885,0.124999999999997016],[0.249999999999996891,0.500000000000001887,0.250000000000001055],[0.124999999999999001,0.250000000000000555,0.124999999999999598]])\n",
        "F3_rounded = np.array([[0.125, 0.25, 0.125], [0.25, 0.5, 0.25 ], [0.125, 0.25, 0.125]], dtype=np.float64)\n",
        "print(apply_convolution(images[0], [F2, F3_rounded, F1]))"
      ]
    },
    {
      "cell_type": "code",
      "execution_count": 8,
      "metadata": {
        "colab": {
          "base_uri": "https://localhost:8080/"
        },
        "id": "zfzakwXo2maA",
        "outputId": "68dfd798-8321-48b3-997a-e0e1d7175f1e"
      },
      "outputs": [
        {
          "name": "stdout",
          "output_type": "stream",
          "text": [
            "[[ 324.81640625  364.234375    353.43359375 ...  326.73828125\n",
            "   229.59765625   33.4296875 ]\n",
            " [ 339.8203125   287.3828125   229.90234375 ...  166.51953125\n",
            "    54.49609375 -134.234375  ]\n",
            " [ 289.40234375  188.03515625  113.96484375 ...   55.84765625\n",
            "   -46.609375   -207.77734375]\n",
            " ...\n",
            " [ 227.94921875  131.46875      66.82421875 ...   20.4140625\n",
            "   -33.46484375 -130.69140625]\n",
            " [ 158.03125      54.953125     -8.49609375 ...  -30.85546875\n",
            "   -69.5234375  -135.56640625]\n",
            " [  23.84765625  -83.91796875 -141.98828125 ... -111.99609375\n",
            "  -124.3828125  -131.65234375]]\n"
          ]
        }
      ],
      "source": [
        "print(outputs[0])"
      ]
    },
    {
      "cell_type": "code",
      "execution_count": 9,
      "metadata": {
        "colab": {
          "base_uri": "https://localhost:8080/",
          "height": 102
        },
        "id": "14URjxAB2ixD",
        "outputId": "0e514f39-493f-4ea2-f6d6-355e10ca0145"
      },
      "outputs": [
        {
          "data": {
            "text/html": [
              "<style>\n",
              "      .ndarray_repr .ndarray_raw_data {\n",
              "        display: none;\n",
              "      }\n",
              "      .ndarray_repr.show_array .ndarray_raw_data {\n",
              "        display: block;\n",
              "      }\n",
              "      .ndarray_repr.show_array .ndarray_image_preview {\n",
              "        display: none;\n",
              "      }\n",
              "      </style>\n",
              "      <div id=\"id-f000fe12-e21f-4450-a23f-76648873c490\" class=\"ndarray_repr\"><pre>ndarray (64, 64) <button style=\"padding: 0 2px;\">show data</button></pre><img src=\"data:image/png;base64,iVBORw0KGgoAAAANSUhEUgAAAEAAAABACAAAAACPAi4CAAALbklEQVR4nAXB25JcR1YA0L0zd2aea1V19VWS5YvQjMOGmCBiAngaAh74Gt75FT6ACB75Ap6ZB4gwzMQMgy3bsmRJ3a2u6lN16pyT171ZC//t2D39yYuokwF2JZZfHHrXBaxizrpczYo06VA6ebw8Hs4rVU5PkNmcos5wv3x1SV/2f7TmtihXdylXs72yn3oVuqEV2HclRFfpAeo1nNRb5Q8Rd5+HdIzmfuzSAH8X/xX/5Uuv8W2IXONW82YOa7TKcTroOFf3m64P7Pzkej3qOD9t1dl4ut8P9PAsfzj9+vRthf/Yv3g527wTpO66YAWnfpR2bGA508M7a4Sq9Gjm5rxfTl5o02N4vAW/xvDqEn76wlAPv//Pm1/vn+VY5cOajLWi88EVOZod1jiPtpvUehgx5Vrvk52S33XyBU3TdTg9X2uaL391Lvv2bfX57ZZOFzO40eaOcRyGkDabncfxzH6wzcOyDRhWMC7LE3XW+Dn8+POf53nBf4Il6dWXptYdxB5aoUNddD/eHR+6adZLjPqZLm3haVW7dPFmE/u4HstOjfefPP0pfE9P5Vih1Tn2qpjDOsZa5na5a3BI43Jfns73n9l5/YZ0JJRnD2d4xs/+q/b6Nj795Ls31ND/Xn6m7JvNxSzRLuakzXG1HPR2eHdbvthuOb1Zm7UN88pvWjI/bjjK5X/nYgf8xfGbY7+N9NdZ9pdPHWufY40uaD3oBlMpfuifT/2+21y/OS/nI5iHZn2LeTXejv2cpu3tcrqcv+3p5+bm2Sg52VhYpxb2Cj8J4W6J9PjDffM4TmcMgzVmeNvW39w8bn/3jMt4Uu177dodfzbgX17k67+4ukqm8EpHzt40VOSh7N68N+vpk7tn1qRY4eO40j2mX75+/o1rvLIn7KIxaWqpgit3vHy4wjbjosPx4u1VQ0d6vHvn19mECI8+Ut8kHQXd9rA/xnZUGFwz1dWxSZG0dtDrM8MT6jyVyrePSz0vd0PEDyvnr4vzHKzYkFJfzv8P93qYN6zdbuMPqOxRXcAjPCyIAe2SKD+Meg6P0+74weYZh8eTZlf0uIQlNMuLD2HvxyEFRXM5JE63+0K7F3zx8lPyDLqdY2ymlb2/qo/20sKt3uKuL1WTSk5L7M9fw3FabKdiTnkFPiFZoBfr1VfXVVRzpchI35ddDj/+mar3d1ZP+ll6rCcsrcwfzjyoedZPrVcm101k71o1Zvqrq/UlJJEaeclQ9m07hfWrbVnhYgrq5/tBF7Rxmm+Mjwm6OtVkEEwUjYU10t9YwSgV7cFwFAMh08XOvoPCHtN8ctUhmlri0nVWx7Rd4aNugM3qVExtMib1xKFuDS82TSmH+YRMBWI6GjLWcFvyyZ+1aJezCg8wumU2nfXgbmuyGhiF2gUycZGwqFq8N6E9LVwgnIRFqQq48qx4Svrcl8k+auqn2dFUJQFOHoAWwVSin6Y8ztzylBMWjlaDE6NbXR2OKgQzpu4kO1IibugsxsVUyKCdaGIlSwqzPyyLP96m675yKs43kWNGluG82epK+SPykucxVx3OGagFV8Rni6xpTn6al5mhLMPuuzDj6qZSEtvj1LpjHt16BVxSk6J6NbIvnGh73ReLjRNSnLT6+PAwDJMtMXKMTSyt+/1hboYFGwohp/JKlONMG/VuN2onq2fVhz/8PALmeeEQDVE83c9CpIxKxdT+sH18C61e+1LZzn5oYLOUWoV6+f5Ddba6n9fegp2gTJ2GxRod1d0IBlM2jJaKpONdwGa+/+N6Pw8Y6nJcsn/zwwR3r6u1icRERUo/LJVSKokiRfvI1TlDbLPEuTmb77HamSO/dj+3WSGfAD2bdv9to5ezlR6yJLDruq8KAC/JAFmREoKRrLRp083toU6RYv7u87GNFWQ+LfmsUw8eZbOf8sqrU3fZrHo0JnEgcpQDZyi5eD1POaBZnVQMnuduRZt8PYhmHuLtBw0nS5JjGa+/7kxjBIyhKR2BAmuDVHyQGVpabeLjYVjVOwqNUlgAtcRlXmaT9aDZFn21GjrbB6dA2Chd0YIKvQq+RNYnqMxkTXvKLVrXLWNdpmZd/MyW6gsJs90cq+1Va33FVRLgIfUkhRN4VVDnWTGLyddpwsFv3KJX7R3HZr46HbXWLV8pgCuoNEr2lY+QWMtCVUhWJEEBtMwF+gpKnfRQTKzKAWt1tF5dnGnq15NSehGdSt3gohYfnc0TZRIpGiizGFZZWvbM3OMuZe4B/YKB+pV3vXFKSnQ6J50D6QVEP6itJu+wMDIr45A5iYGc0bjWqvt5BaejVy31lcNciStWQy5seEJHM6t2enNJGLRyRRESpgI1RTETkRP186l95WHI1ae6bnPm2JmYKdYu5qIgJFQRu/EnQiBBMgglzqQrDUnmVW1YLZ9f79YyvfV3XzfeZQzZaThZo8ycBWFWUI3l2SNZcIWNhqSptcQZy46xwzbNf/jwNe//o+n/fpPrdBraIrUDNRFVySfVAEysY09jtLVgIXFGROUyz+9Xh2ap1l8++Xc1uIt/WJ+VMC8mLy3WSzVaEFWpBOJRky+amCASO21YYcw4Hf+U+rP1p0b36uV379xvLm44Hst8WN/WbW0bNRenMuVcFAxG20Bc25I9m4pQ5HCYLv5W6Y+cLNj44k/pl0/WhfTTj5uPJ/44vdxEpwOCtTrLnHVpcksrycpxTKkpI9RdpY7vATQoXSz/5re/WvcqlYfux/Pz1Wv5/vl5sRgjKtGJVD0tvqIMqIiVwqzrOIxGmW3VkdYSdrp8pY/TDWPzvry/uuhO6eHhvDVaSQEtKjgrzhOmAE1bI6NSzQUXALuIryIMEgt4WA9nZG9C8A/ueljLsGsNOY0ABUCrqqKV2W71uD9KqVbAqIJHqwnAWxY8jC+VD5FcrrDwLtLFWENkBZK4AM7ELX31/vXvUnPmoiNgwKwbIahyVmos9xOPro6Ry6JtK1r0ULccldaGctJFQSp06D558w7WhXgiB6CFmPNJkL1Ml11Kh00Fgk0qWLS2l9GjhZhQeoijXrqE/xy7Wr+GWBVHyggWkcAqYQhFS0ogRACIENEGAzbpEsHpEhO13cORCl2EN+hCqr0pmiMqJVlB9sU1CrkwFBbhXFhSQKdQUlI8kzJdOozmi/eFXvtm8ilUrLJmUFqTkmWhmrQCAC6SijAIJtQQWbMguJwoLtzK4/GcaJ1967sYCytiBRJiFk2OKhRBVVBYEDVlVxSSQGa2sahsjR/UJt0h2WoohrXB2WYmAQFmRLIgiFJEiYKiSRg0AiqR4jzULMm2dlj8zUheVn4bGWIAL0Vh61N2GjIJaClFADQnRCugRECgymWKbbYRm7NHd+co1Cf7GC0XZE/Z6pEVxyJOMQhy4YLAqWgCFqMw8WKoiYequCh2Myqm4umo4hi1A1ZTBreIr0mXrFRhBpRUpMQCxtSmZN1pT0QawpxSRmv2xKBrDWCSyjZSaI/DAldNAKRImRFSRg1q0UE61zhORAzEHkoKxRUlFC1CZhDOpU+lUtN2vcjSBByh1iKzVkUoZiLPaawJGFhnIRalysliUh0VUKSQFj6cdlzWz+XupERlQrXEmWEBnQplW2maOSkEB8iTaCticFZkxtmpHIsBqNKVMjJPFzEFm1WDGBG9zgGz6ZRznuZgajUlVyiwZmMxbSgWMaItnjQBx2AJ6HKeZ20UTGOfH6lRDEordEK8fGx3sZk3dtpBXamTUUQ+p5zRKge4mD36SjeLrOv31qagfKw46VrVKgOAKWwcRtvBQgsgEEWsSTizaFRYvFvaI+9rM23I9sfDytnv1ZNdfYwriJSDW/ZhrXKxXdL44qcwc3+kjnIWV4ARcoWplKpJjS5z1yhVVj/UGDO7ZslFBbPv/uelyMkJGJzDzWkKedmW/we2tN4FnamjfQAAAABJRU5ErkJggg==\" class=\"ndarray_image_preview\" /><pre class=\"ndarray_raw_data\">array([[174, 160, 172, ..., 182, 223, 244],\n",
              "       [213, 226, 184, ..., 223, 217, 154],\n",
              "       [163, 202, 194, ..., 165, 127, 135],\n",
              "       ...,\n",
              "       [137, 131, 122, ...,  99, 100, 114],\n",
              "       [136, 129, 118, ...,  85,  89, 112],\n",
              "       [132, 125, 117, ...,  73,  91, 109]], dtype=uint8)</pre></div><script>\n",
              "      (() => {\n",
              "      const titles = ['show data', 'hide data'];\n",
              "      let index = 0\n",
              "      document.querySelector('#id-f000fe12-e21f-4450-a23f-76648873c490 button').onclick = (e) => {\n",
              "        document.querySelector('#id-f000fe12-e21f-4450-a23f-76648873c490').classList.toggle('show_array');\n",
              "        index = (++index) % 2;\n",
              "        document.querySelector('#id-f000fe12-e21f-4450-a23f-76648873c490 button').textContent = titles[index];\n",
              "        e.preventDefault();\n",
              "        e.stopPropagation();\n",
              "      }\n",
              "      })();\n",
              "    </script>"
            ],
            "text/plain": [
              "array([[174, 160, 172, ..., 182, 223, 244],\n",
              "       [213, 226, 184, ..., 223, 217, 154],\n",
              "       [163, 202, 194, ..., 165, 127, 135],\n",
              "       ...,\n",
              "       [137, 131, 122, ...,  99, 100, 114],\n",
              "       [136, 129, 118, ...,  85,  89, 112],\n",
              "       [132, 125, 117, ...,  73,  91, 109]], dtype=uint8)"
            ]
          },
          "execution_count": 9,
          "metadata": {},
          "output_type": "execute_result"
        }
      ],
      "source": [
        "images[0]"
      ]
    },
    {
      "cell_type": "code",
      "execution_count": 42,
      "metadata": {
        "colab": {
          "base_uri": "https://localhost:8080/"
        },
        "id": "WkaIICDx2oEy",
        "outputId": "c1f46cc7-56a1-4969-d4d3-878090ce46ed"
      },
      "outputs": [
        {
          "name": "stdout",
          "output_type": "stream",
          "text": [
            "MSE: 3.994862498261157e-27\n",
            "MSE: 0.000000000000000e+00\n"
          ]
        }
      ],
      "source": [
        "def mse(matrix1, matrix2):\n",
        "    matrix1 = np.asarray(matrix1, dtype=np.float64)\n",
        "    matrix2 = np.asarray(matrix2, dtype=np.float64)\n",
        "\n",
        "    if matrix1.shape != matrix2.shape:\n",
        "        raise ValueError(f\"Размеры матриц не совпадают: {matrix1.shape} vs {matrix2.shape}\")\n",
        "\n",
        "    return np.mean(np.square(matrix1 - matrix2))\n",
        "\n",
        "print(f\"MSE: {mse(apply_convolution(images[0], [F2, F3, F1]), outputs[0])}\")\n",
        "print(f\"MSE: {mse(apply_convolution(images[0], [F2, F3_rounded, F1]), outputs[0]):.15e}\")"
      ]
    },
    {
      "cell_type": "code",
      "execution_count": 29,
      "metadata": {
        "colab": {
          "base_uri": "https://localhost:8080/"
        },
        "id": "8cEk-6PYg8I1",
        "outputId": "cdbe847b-c62a-43e6-c3a9-6fc37860aeae"
      },
      "outputs": [
        {
          "name": "stdout",
          "output_type": "stream",
          "text": [
            "0.0\n"
          ]
        }
      ],
      "source": [
        "s = 0\n",
        "for i in range(len(images)):\n",
        "  s += mse(apply_convolution(images[i], [F2, F3_rounded, F1]), outputs[i])\n",
        "print(s)"
      ]
    },
    {
      "cell_type": "code",
      "execution_count": 57,
      "metadata": {
        "colab": {
          "base_uri": "https://localhost:8080/",
          "height": 368
        },
        "id": "5iZwibEHiq6J",
        "outputId": "9a8442cc-2e79-47ee-f2cd-c0e3bf7f6afe"
      },
      "outputs": [
        {
          "data": {
            "image/png": "[encoded data removed]",
            "text/plain": [
              "<Figure size 1500x500 with 3 Axes>"
            ]
          },
          "metadata": {},
          "output_type": "display_data"
        }
      ],
      "source": [
        "import matplotlib.pyplot as plt\n",
        "\n",
        "result_image = apply_convolution(images[0], [F2, F3_rounded, F1])\n",
        "\n",
        "# Визуализация\n",
        "fig, axs = plt.subplots(1, 3, figsize=(15, 5))\n",
        "\n",
        "axs[0].imshow(images[0], cmap='gray')\n",
        "axs[0].set_title('Original Image')\n",
        "axs[0].axis('off')\n",
        "\n",
        "axs[1].imshow(result_image, cmap='gray')\n",
        "axs[1].set_title('After Convolution')\n",
        "axs[1].axis('off')\n",
        "\n",
        "axs[2].imshow(outputs[0], cmap='gray')\n",
        "axs[2].set_title('Expected Output')\n",
        "axs[2].axis('off')\n",
        "\n",
        "plt.tight_layout()\n",
        "plt.show()"
      ]
    },
    {
      "cell_type": "code",
      "execution_count": 58,
      "metadata": {
        "id": "nc8yft9k7S-o"
      },
      "outputs": [],
      "source": [
        "best_filters[0] = F3_rounded\n",
        "# Преобразуем все фильтры в одномерные массивы\n",
        "for i in range(len(best_filters)):\n",
        "    if best_filters[i].ndim == 2:  # Если элемент — это матрица\n",
        "        best_filters[i] = best_filters[i].flatten()  # Преобразуем в вектор\n",
        "np.savetxt('reconstructed_algos.csv', best_filters, delimiter=',', fmt='%.18f')"
      ]
    },
    {
      "cell_type": "code",
      "execution_count": null,
      "metadata": {
        "id": "TmsTPsl8sVC4"
      },
      "outputs": [],
      "source": []
    }
  ],
  "metadata": {
    "colab": {
      "provenance": []
    },
    "kernelspec": {
      "display_name": "Python 3",
      "name": "python3"
    },
    "language_info": {
      "name": "python"
    }
  },
  "nbformat": 4,
  "nbformat_minor": 0
}
