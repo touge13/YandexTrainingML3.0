{
  "cells": [
    {
      "cell_type": "markdown",
      "metadata": {
        "id": "FEbmYx4O8Q32"
      },
      "source": [
        "**Мы имеем:**\n",
        "1. Два фильтра из трех.\n",
        "algos.csv: две строки по 9 чисел — уцелевшие фильтры.\n",
        "2. Входные изображения в одноканальном формате\n",
        "Изображения (.png), которые использовались как вход.\n",
        "3. Числовые матрицы — результат применения всех трех фильтров к этим изображениям (в виде .txt файлов, сохранённых через numpy.savetxt).\n",
        "\n",
        "Каждому входному FILENAME.png файлу соответствует выходной FILENAME.txt.\n",
        "\n",
        "\n",
        "Каждый фильтр — это матрица 3×3, применяемая к изображению по скользящему окну:\n",
        "поэлементное произведение окна и фильтра → сумма → в соответствующую ячейку выходной матрицы. Алгоритм последовательно применяет три таких фильтра ко всему изображению.\n",
        "\n",
        "**Задача** — восстановить недостающий фильтр и порядок применения всех трёх.\n",
        "От вас ожидается восстановленный алгоритм в формате reconstructed_algos.csv, содержащем три строки по 9 чисел через запятую, в порядке применения фильтров. Первая строка соответствует первому фильтру, вторая второму, третья третьему.\n",
        "\n",
        "Важно:\n",
        "Точный ответ не требуется: оценивается среднее значение MSE между вашими фильтрами и оригинальными."
      ]
    },
    {
      "cell_type": "code",
      "execution_count": 69,
      "metadata": {
        "colab": {
          "base_uri": "https://localhost:8080/"
        },
        "collapsed": true,
        "id": "9mVT-jM38bfK",
        "outputId": "2dfb53be-7a5a-4ad0-d8e0-2893fa719be6"
      },
      "outputs": [
        {
          "name": "stdout",
          "output_type": "stream",
          "text": [
            "mkdir: cannot create directory ‘best_pictures’: File exists\n"
          ]
        }
      ],
      "source": [
        "!mkdir best_pictures\n",
        "!tar -xvf best_pictures.tar -C /content/best_pictures/ > /dev/null 2>&1"
      ]
    },
    {
      "cell_type": "code",
      "execution_count": 70,
      "metadata": {
        "id": "d-kl_dkvyC2V"
      },
      "outputs": [],
      "source": [
        "import numpy as np\n",
        "from scipy.signal import correlate2d\n",
        "from PIL import Image\n",
        "import os\n",
        "from itertools import permutations\n",
        "import torch\n",
        "import torch.nn as nn\n",
        "import torch.optim as optim\n",
        "\n",
        "# Загрузка известных фильтров\n",
        "known_filters = np.loadtxt('best_pictures/algos.csv', delimiter=',')\n",
        "F1 = known_filters[0].reshape(3, 3)\n",
        "F2 = known_filters[1].reshape(3, 3)\n",
        "\n",
        "# Загрузка изображений и выходных матриц\n",
        "image_folder = 'best_pictures'\n",
        "output_files = [f for f in os.listdir(image_folder) if f.endswith('.txt') and not f.startswith('.')]\n",
        "\n",
        "file_image_output_pairs = []\n",
        "\n",
        "for f in output_files:\n",
        "    file_index = int(f.split('.')[0])\n",
        "    img_name = f.replace('.txt', '.png')\n",
        "    img_path = os.path.join(image_folder, img_name)\n",
        "\n",
        "    if not os.path.exists(img_path):\n",
        "        continue\n",
        "\n",
        "    img = np.array(Image.open(img_path))\n",
        "    output = np.loadtxt(os.path.join(image_folder, f))\n",
        "\n",
        "    file_image_output_pairs.append((file_index, f, img, output))\n",
        "\n",
        "file_image_output_pairs.sort(key=lambda x: x[0])\n",
        "_, output_files, images, outputs = zip(*file_image_output_pairs)\n",
        "images = list(images)\n",
        "outputs = list(outputs)"
      ]
    },
    {
      "cell_type": "code",
      "execution_count": 71,
      "metadata": {
        "colab": {
          "base_uri": "https://localhost:8080/"
        },
        "id": "Qm8PV1vxyNS1",
        "outputId": "53d0587a-0e35-4b87-d914-ec2f28c6157e"
      },
      "outputs": [
        {
          "data": {
            "text/plain": [
              "array([[-1. , -0.5,  0. ],\n",
              "       [-0.5,  0.5,  0.5],\n",
              "       [ 0. ,  0.5,  1. ]])"
            ]
          },
          "execution_count": 71,
          "metadata": {},
          "output_type": "execute_result"
        }
      ],
      "source": [
        "F1"
      ]
    },
    {
      "cell_type": "code",
      "execution_count": 72,
      "metadata": {
        "colab": {
          "base_uri": "https://localhost:8080/"
        },
        "id": "Y9Ny08TXyPrZ",
        "outputId": "5f0f474a-a43b-4933-aaa3-34a8201b407b"
      },
      "outputs": [
        {
          "data": {
            "text/plain": [
              "array([[0.0625, 0.0625, 0.0625],\n",
              "       [0.0625, 0.0625, 0.0625],\n",
              "       [0.0625, 0.0625, 0.0625]])"
            ]
          },
          "execution_count": 72,
          "metadata": {},
          "output_type": "execute_result"
        }
      ],
      "source": [
        "F2"
      ]
    },
    {
      "cell_type": "code",
      "execution_count": 73,
      "metadata": {
        "colab": {
          "base_uri": "https://localhost:8080/"
        },
        "id": "o7eO-Na8MVkx",
        "outputId": "31e69922-e4a1-49ce-96fa-759b9a7d36d3"
      },
      "outputs": [
        {
          "name": "stdout",
          "output_type": "stream",
          "text": [
            "Используемое устройство: cuda\n",
            "\n",
            "Текущий порядок: ['F1', 'F2', 'F3']\n",
            "Начальные веса F3:\n",
            "[[ 0.33669037  0.1288094   0.23446237]\n",
            " [ 0.23033303 -1.1228564  -0.18632829]\n",
            " [ 2.2082014  -0.63799703  0.46165723]]\n",
            "Начало обучения:\n",
            "Эпоха [500/2000], Лосс: 901.679443\n",
            "Эпоха [1000/2000], Лосс: 895.646118\n",
            "Эпоха [1500/2000], Лосс: 891.149719\n",
            "Эпоха [2000/2000], Лосс: 887.918518\n",
            "MSE после обучения: 887.9135131836\n",
            "Найдено улучшение! Новый лучший MSE: 887.9135131836\n",
            "\n",
            "Текущий порядок: ['F1', 'F3', 'F2']\n",
            "Начальные веса F3:\n",
            "[[ 0.33669037  0.1288094   0.23446237]\n",
            " [ 0.23033303 -1.1228564  -0.18632829]\n",
            " [ 2.2082014  -0.63799703  0.46165723]]\n",
            "Начало обучения:\n",
            "Эпоха [500/2000], Лосс: 921.638428\n",
            "Эпоха [1000/2000], Лосс: 916.156677\n",
            "Эпоха [1500/2000], Лосс: 911.948608\n",
            "Эпоха [2000/2000], Лосс: 908.916992\n",
            "MSE после обучения: 908.9123535156\n",
            "\n",
            "Текущий порядок: ['F2', 'F1', 'F3']\n",
            "Начальные веса F3:\n",
            "[[ 0.33669037  0.1288094   0.23446237]\n",
            " [ 0.23033303 -1.1228564  -0.18632829]\n",
            " [ 2.2082014  -0.63799703  0.46165723]]\n",
            "Начало обучения:\n",
            "Эпоха [500/2000], Лосс: 45.214394\n",
            "Эпоха [1000/2000], Лосс: 42.869743\n",
            "Эпоха [1500/2000], Лосс: 42.672806\n",
            "Эпоха [2000/2000], Лосс: 42.578205\n",
            "MSE после обучения: 42.5780525208\n",
            "Найдено улучшение! Новый лучший MSE: 42.5780525208\n",
            "\n",
            "Текущий порядок: ['F2', 'F3', 'F1']\n",
            "Начальные веса F3:\n",
            "[[ 0.33669037  0.1288094   0.23446237]\n",
            " [ 0.23033303 -1.1228564  -0.18632829]\n",
            " [ 2.2082014  -0.63799703  0.46165723]]\n",
            "Начало обучения:\n",
            "Эпоха [500/2000], Лосс: 1.161398\n",
            "Эпоха [1000/2000], Лосс: 0.058835\n",
            "Эпоха [1500/2000], Лосс: 0.000681\n",
            "Эпоха [2000/2000], Лосс: 0.000014\n",
            "MSE после обучения: 0.0000212226\n",
            "Найдено улучшение! Новый лучший MSE: 0.0000212226\n",
            "\n",
            "Текущий порядок: ['F3', 'F1', 'F2']\n",
            "Начальные веса F3:\n",
            "[[ 0.33669037  0.1288094   0.23446237]\n",
            " [ 0.23033303 -1.1228564  -0.18632829]\n",
            " [ 2.2082014  -0.63799703  0.46165723]]\n",
            "Начало обучения:\n",
            "Эпоха [500/2000], Лосс: 516.427002\n",
            "Эпоха [1000/2000], Лосс: 514.292908\n",
            "Эпоха [1500/2000], Лосс: 513.078186\n",
            "Эпоха [2000/2000], Лосс: 512.578003\n",
            "MSE после обучения: 512.5769042969\n",
            "\n",
            "Текущий порядок: ['F3', 'F2', 'F1']\n",
            "Начальные веса F3:\n",
            "[[ 0.33669037  0.1288094   0.23446237]\n",
            " [ 0.23033303 -1.1228564  -0.18632829]\n",
            " [ 2.2082014  -0.63799703  0.46165723]]\n",
            "Начало обучения:\n",
            "Эпоха [500/2000], Лосс: 1.091321\n",
            "Эпоха [1000/2000], Лосс: 0.063624\n",
            "Эпоха [1500/2000], Лосс: 0.003682\n",
            "Эпоха [2000/2000], Лосс: 0.001352\n",
            "MSE после обучения: 0.0013494266\n"
          ]
        }
      ],
      "source": [
        "# Определение устройства (GPU или CPU)\n",
        "device = torch.device(\"cuda\" if torch.cuda.is_available() else \"cpu\")\n",
        "print(f\"Используемое устройство: {device}\")\n",
        "\n",
        "# Преобразование списков изображений и выходов в тензоры\n",
        "X = torch.tensor(np.array(images), dtype=torch.float32).unsqueeze(1).to(device)  # (N, 1, H, W)\n",
        "Y = torch.tensor(np.array(outputs), dtype=torch.float32).unsqueeze(1).to(device)  # (N, 1, H, W)\n",
        "\n",
        "best_mse = float('inf')\n",
        "best_order = None\n",
        "best_missing_filter = None\n",
        "\n",
        "# Генерация случайных начальных весов для F3 (одинаковых для всех моделей)\n",
        "torch.manual_seed(42)  # Фиксируем seed для воспроизводимости\n",
        "initial_F3_weights = torch.randn(1, 1, 3, 3).to(device)  # Случайные веса размером (1, 1, 3, 3)\n",
        "\n",
        "# Список для хранения лоссов всех моделей\n",
        "all_losses = []\n",
        "\n",
        "# Перебор всех возможных порядков фильтров\n",
        "for perm_index, perm in enumerate(permutations([('F1', F1), ('F2', F2), ('F3', None)])):\n",
        "    order_names = [p[0] for p in perm]\n",
        "    print(f\"\\nТекущий порядок: {order_names}\")\n",
        "\n",
        "    # Создание модели\n",
        "    class ConvModel(nn.Module):\n",
        "        def __init__(self):\n",
        "            super(ConvModel, self).__init__()\n",
        "            self.layers = []\n",
        "            for name, filt in perm:\n",
        "                if name == 'F3':\n",
        "                    # Обучаемый фильтр с фиксированными случайными начальными весами\n",
        "                    conv = nn.Conv2d(1, 1, kernel_size=3, padding=1, bias=False)\n",
        "                    with torch.no_grad():\n",
        "                        conv.weight.copy_(initial_F3_weights)  # Установка начальных весов\n",
        "                else:\n",
        "                    # Фиксированный фильтр\n",
        "                    conv = nn.Conv2d(1, 1, kernel_size=3, padding=1, bias=False)\n",
        "                    with torch.no_grad():\n",
        "                        # Преобразуем filt в тензор PyTorch, если это массив NumPy\n",
        "                        if isinstance(filt, np.ndarray):\n",
        "                            filt = torch.tensor(filt, dtype=torch.float32)\n",
        "                        conv.weight.copy_(filt)\n",
        "                        conv.weight.requires_grad = False  # Заморозка весов\n",
        "                self.layers.append(conv)\n",
        "            self.layers = nn.ModuleList(self.layers)\n",
        "\n",
        "        def forward(self, x):\n",
        "            for layer in self.layers:\n",
        "                x = layer(x)\n",
        "            return x\n",
        "\n",
        "    model = ConvModel().to(device)  # Перемещение модели на GPU\n",
        "    criterion = nn.MSELoss()\n",
        "    optimizer = optim.Adam(model.parameters(), lr=0.05)\n",
        "\n",
        "    # Вывод начальных весов F3\n",
        "    for i, (name, _) in enumerate(perm):\n",
        "        if name == 'F3':\n",
        "            initial_weights = model.layers[i].weight.data.cpu().numpy().squeeze()  # Перемещение на CPU для вывода\n",
        "            print(f\"Начальные веса F3:\\n{initial_weights}\")\n",
        "\n",
        "    # Обучение\n",
        "    print(\"Начало обучения:\")\n",
        "    losses_for_this_model = []  # Лоссы для текущей модели\n",
        "    for epoch in range(2000):\n",
        "        model.train()\n",
        "        optimizer.zero_grad()\n",
        "        outputs1 = model(X)\n",
        "        loss = criterion(outputs1, Y)\n",
        "        loss.backward()\n",
        "        optimizer.step()\n",
        "\n",
        "        # Сохранение лосса\n",
        "        losses_for_this_model.append(loss.item())\n",
        "\n",
        "        # Вывод каждые 10 эпох\n",
        "        if (epoch + 1) % 500 == 0:\n",
        "            print(f\"Эпоха [{epoch+1}/2000], Лосс: {loss.item():.6f}\")\n",
        "\n",
        "    # Оценка\n",
        "    model.eval()\n",
        "    with torch.no_grad():\n",
        "        preds = model(X)\n",
        "        mse = criterion(preds, Y).item()\n",
        "\n",
        "    print(f\"MSE после обучения: {mse:.10f}\")\n",
        "\n",
        "    # Сохранение лучшего результата\n",
        "    if mse < best_mse:\n",
        "        print(f\"Найдено улучшение! Новый лучший MSE: {mse:.10f}\")\n",
        "        best_mse = mse\n",
        "        best_order = order_names\n",
        "        # Сохранение весов F3\n",
        "        for i, (name, _) in enumerate(perm):\n",
        "            if name == 'F3':\n",
        "                best_missing_filter = model.layers[i].weight.data.cpu().numpy().squeeze()  # Перемещение на CPU для сохранения\n",
        "\n",
        "    # Сохранение лоссов для текущей модели\n",
        "    all_losses.append((order_names, losses_for_this_model))"
      ]
    },
    {
      "cell_type": "code",
      "execution_count": 75,
      "metadata": {
        "colab": {
          "base_uri": "https://localhost:8080/",
          "height": 709
        },
        "id": "Yks0GNlGMFxM",
        "outputId": "b8ed1b1e-a6ca-4fef-998f-ae629e009992"
      },
      "outputs": [
        {
          "name": "stdout",
          "output_type": "stream",
          "text": [
            "\n",
            "Результаты:\n",
            "Лучший порядок: ['F2', 'F3', 'F1']\n",
            "Лучший MSE: 0.000021\n",
            "\n",
            "Итоговые веса F3:\n",
            "[[0.12462361  0.25086498  0.1244535  ]\n",
            " [0.25039902  0.49874333  0.25087267 ]\n",
            " [0.12493083  0.2503989   0.124620095]]\n"
          ]
        },
        {
          "data": {
            "image/png": "[encoded data removed]",
            "text/plain": [
              "<Figure size 1200x600 with 1 Axes>"
            ]
          },
          "metadata": {},
          "output_type": "display_data"
        }
      ],
      "source": [
        "import matplotlib.pyplot as plt\n",
        "\n",
        "# Вывод результатов\n",
        "print(\"\\nРезультаты:\")\n",
        "print(f\"Лучший порядок: {best_order}\")\n",
        "print(f\"Лучший MSE: {best_mse:.6f}\")\n",
        "\n",
        "# Вывод итоговых весов F3\n",
        "if best_missing_filter is not None:\n",
        "    print(\"\\nИтоговые веса F3:\")\n",
        "    print(best_missing_filter)\n",
        "\n",
        "plt.figure(figsize=(12, 6))\n",
        "for order_names, losses in all_losses:\n",
        "    label = ' -> '.join(order_names)\n",
        "    plt.plot(losses, label=label)\n",
        "\n",
        "plt.title('Сравнение кривых обучения для всех комбинаций')\n",
        "plt.xlabel('Эпоха')\n",
        "plt.ylabel('MSE Loss')\n",
        "plt.yscale('log')  # Логарифмическая шкала для лучше визуализации\n",
        "plt.grid(True, which=\"both\", ls=\"--\")\n",
        "plt.legend(bbox_to_anchor=(1.05, 1), loc='upper left')\n",
        "plt.tight_layout()\n",
        "plt.show()"
      ]
    },
    {
      "cell_type": "code",
      "execution_count": 76,
      "metadata": {
        "colab": {
          "base_uri": "https://localhost:8080/"
        },
        "id": "ZX2UMwE1Lpel",
        "outputId": "95ab1aeb-f7c5-463d-d236-efcd79ea31b9"
      },
      "outputs": [
        {
          "data": {
            "text/plain": [
              "array([[0.12462361 , 0.25086498 , 0.1244535  ],\n",
              "       [0.25039902 , 0.49874333 , 0.25087267 ],\n",
              "       [0.12493083 , 0.2503989  , 0.124620095]], dtype=float32)"
            ]
          },
          "execution_count": 76,
          "metadata": {},
          "output_type": "execute_result"
        }
      ],
      "source": [
        "best_missing_filter"
      ]
    },
    {
      "cell_type": "markdown",
      "metadata": {
        "id": "az90tZF7Mj3y"
      },
      "source": [
        "можно поиграться с гиперпараметрами и получить более точные веса при которых фильтр будет такой: \n",
        "\n",
        "[0.125, 0.25, 0.125] </br>\n",
        "[0.25, 0.5, 0.25 ] </br>\n",
        "[0.125, 0.25, 0.125] </br>\n"
      ]
    },
    {
      "cell_type": "code",
      "execution_count": 77,
      "metadata": {
        "colab": {
          "base_uri": "https://localhost:8080/"
        },
        "id": "rgSBoU4Yp8l6",
        "outputId": "cb658216-71d9-4137-ca03-66235556b8fc"
      },
      "outputs": [
        {
          "name": "stdout",
          "output_type": "stream",
          "text": [
            "[[ 324.81640625  364.234375    353.43359375 ...  326.73828125\n",
            "   229.59765625   33.4296875 ]\n",
            " [ 339.8203125   287.3828125   229.90234375 ...  166.51953125\n",
            "    54.49609375 -134.234375  ]\n",
            " [ 289.40234375  188.03515625  113.96484375 ...   55.84765625\n",
            "   -46.609375   -207.77734375]\n",
            " ...\n",
            " [ 227.94921875  131.46875      66.82421875 ...   20.4140625\n",
            "   -33.46484375 -130.69140625]\n",
            " [ 158.03125      54.953125     -8.49609375 ...  -30.85546875\n",
            "   -69.5234375  -135.56640625]\n",
            " [  23.84765625  -83.91796875 -141.98828125 ... -111.99609375\n",
            "  -124.3828125  -131.65234375]]\n"
          ]
        }
      ],
      "source": [
        "def apply_convolution(image, filters):\n",
        "    result = image.astype(np.float64)\n",
        "    for f in filters:\n",
        "        result = correlate2d(result, f.astype(np.float64), mode='same')\n",
        "    return result\n",
        "\n",
        "np.set_printoptions(precision=15, suppress=False)\n",
        "\n",
        "F3 = best_missing_filter\n",
        "\n",
        "F3_rounded = np.array([[0.125, 0.25, 0.125],\n",
        "                       [0.25, 0.5, 0.25],\n",
        "                       [0.125, 0.25, 0.125]], dtype=np.float64)\n",
        "\n",
        "print(apply_convolution(images[0], [F2, F3_rounded, F1]))"
      ]
    },
    {
      "cell_type": "code",
      "execution_count": 78,
      "metadata": {
        "colab": {
          "base_uri": "https://localhost:8080/"
        },
        "id": "zfzakwXo2maA",
        "outputId": "eba87e98-4fc7-420c-b0d0-805975d9c9ed"
      },
      "outputs": [
        {
          "name": "stdout",
          "output_type": "stream",
          "text": [
            "[[ 324.81640625  364.234375    353.43359375 ...  326.73828125\n",
            "   229.59765625   33.4296875 ]\n",
            " [ 339.8203125   287.3828125   229.90234375 ...  166.51953125\n",
            "    54.49609375 -134.234375  ]\n",
            " [ 289.40234375  188.03515625  113.96484375 ...   55.84765625\n",
            "   -46.609375   -207.77734375]\n",
            " ...\n",
            " [ 227.94921875  131.46875      66.82421875 ...   20.4140625\n",
            "   -33.46484375 -130.69140625]\n",
            " [ 158.03125      54.953125     -8.49609375 ...  -30.85546875\n",
            "   -69.5234375  -135.56640625]\n",
            " [  23.84765625  -83.91796875 -141.98828125 ... -111.99609375\n",
            "  -124.3828125  -131.65234375]]\n"
          ]
        }
      ],
      "source": [
        "print(outputs[0])"
      ]
    },
    {
      "cell_type": "code",
      "execution_count": 79,
      "metadata": {
        "colab": {
          "base_uri": "https://localhost:8080/",
          "height": 102
        },
        "id": "14URjxAB2ixD",
        "outputId": "5ed59db9-6d25-4f9e-e759-80746cedb4a9"
      },
      "outputs": [
        {
          "data": {
            "text/html": [
              "<style>\n",
              "      .ndarray_repr .ndarray_raw_data {\n",
              "        display: none;\n",
              "      }\n",
              "      .ndarray_repr.show_array .ndarray_raw_data {\n",
              "        display: block;\n",
              "      }\n",
              "      .ndarray_repr.show_array .ndarray_image_preview {\n",
              "        display: none;\n",
              "      }\n",
              "      </style>\n",
              "      <div id=\"id-250ed40e-9584-4e6f-9271-13a9b34229e6\" class=\"ndarray_repr\"><pre>ndarray (64, 64) <button style=\"padding: 0 2px;\">show data</button></pre><img src=\"data:image/png;base64,iVBORw0KGgoAAAANSUhEUgAAAEAAAABACAAAAACPAi4CAAALbklEQVR4nAXB25JcR1YA0L0zd2aea1V19VWS5YvQjMOGmCBiAngaAh74Gt75FT6ACB75Ap6ZB4gwzMQMgy3bsmRJ3a2u6lN16pyT171ZC//t2D39yYuokwF2JZZfHHrXBaxizrpczYo06VA6ebw8Hs4rVU5PkNmcos5wv3x1SV/2f7TmtihXdylXs72yn3oVuqEV2HclRFfpAeo1nNRb5Q8Rd5+HdIzmfuzSAH8X/xX/5Uuv8W2IXONW82YOa7TKcTroOFf3m64P7Pzkej3qOD9t1dl4ut8P9PAsfzj9+vRthf/Yv3g527wTpO66YAWnfpR2bGA508M7a4Sq9Gjm5rxfTl5o02N4vAW/xvDqEn76wlAPv//Pm1/vn+VY5cOajLWi88EVOZod1jiPtpvUehgx5Vrvk52S33XyBU3TdTg9X2uaL391Lvv2bfX57ZZOFzO40eaOcRyGkDabncfxzH6wzcOyDRhWMC7LE3XW+Dn8+POf53nBf4Il6dWXptYdxB5aoUNddD/eHR+6adZLjPqZLm3haVW7dPFmE/u4HstOjfefPP0pfE9P5Vih1Tn2qpjDOsZa5na5a3BI43Jfns73n9l5/YZ0JJRnD2d4xs/+q/b6Nj795Ls31ND/Xn6m7JvNxSzRLuakzXG1HPR2eHdbvthuOb1Zm7UN88pvWjI/bjjK5X/nYgf8xfGbY7+N9NdZ9pdPHWufY40uaD3oBlMpfuifT/2+21y/OS/nI5iHZn2LeTXejv2cpu3tcrqcv+3p5+bm2Sg52VhYpxb2Cj8J4W6J9PjDffM4TmcMgzVmeNvW39w8bn/3jMt4Uu177dodfzbgX17k67+4ukqm8EpHzt40VOSh7N68N+vpk7tn1qRY4eO40j2mX75+/o1rvLIn7KIxaWqpgit3vHy4wjbjosPx4u1VQ0d6vHvn19mECI8+Ut8kHQXd9rA/xnZUGFwz1dWxSZG0dtDrM8MT6jyVyrePSz0vd0PEDyvnr4vzHKzYkFJfzv8P93qYN6zdbuMPqOxRXcAjPCyIAe2SKD+Meg6P0+74weYZh8eTZlf0uIQlNMuLD2HvxyEFRXM5JE63+0K7F3zx8lPyDLqdY2ymlb2/qo/20sKt3uKuL1WTSk5L7M9fw3FabKdiTnkFPiFZoBfr1VfXVVRzpchI35ddDj/+mar3d1ZP+ll6rCcsrcwfzjyoedZPrVcm101k71o1Zvqrq/UlJJEaeclQ9m07hfWrbVnhYgrq5/tBF7Rxmm+Mjwm6OtVkEEwUjYU10t9YwSgV7cFwFAMh08XOvoPCHtN8ctUhmlri0nVWx7Rd4aNugM3qVExtMib1xKFuDS82TSmH+YRMBWI6GjLWcFvyyZ+1aJezCg8wumU2nfXgbmuyGhiF2gUycZGwqFq8N6E9LVwgnIRFqQq48qx4Svrcl8k+auqn2dFUJQFOHoAWwVSin6Y8ztzylBMWjlaDE6NbXR2OKgQzpu4kO1IibugsxsVUyKCdaGIlSwqzPyyLP96m675yKs43kWNGluG82epK+SPykucxVx3OGagFV8Rni6xpTn6al5mhLMPuuzDj6qZSEtvj1LpjHt16BVxSk6J6NbIvnGh73ReLjRNSnLT6+PAwDJMtMXKMTSyt+/1hboYFGwohp/JKlONMG/VuN2onq2fVhz/8PALmeeEQDVE83c9CpIxKxdT+sH18C61e+1LZzn5oYLOUWoV6+f5Ddba6n9fegp2gTJ2GxRod1d0IBlM2jJaKpONdwGa+/+N6Pw8Y6nJcsn/zwwR3r6u1icRERUo/LJVSKokiRfvI1TlDbLPEuTmb77HamSO/dj+3WSGfAD2bdv9to5ezlR6yJLDruq8KAC/JAFmREoKRrLRp083toU6RYv7u87GNFWQ+LfmsUw8eZbOf8sqrU3fZrHo0JnEgcpQDZyi5eD1POaBZnVQMnuduRZt8PYhmHuLtBw0nS5JjGa+/7kxjBIyhKR2BAmuDVHyQGVpabeLjYVjVOwqNUlgAtcRlXmaT9aDZFn21GjrbB6dA2Chd0YIKvQq+RNYnqMxkTXvKLVrXLWNdpmZd/MyW6gsJs90cq+1Va33FVRLgIfUkhRN4VVDnWTGLyddpwsFv3KJX7R3HZr46HbXWLV8pgCuoNEr2lY+QWMtCVUhWJEEBtMwF+gpKnfRQTKzKAWt1tF5dnGnq15NSehGdSt3gohYfnc0TZRIpGiizGFZZWvbM3OMuZe4B/YKB+pV3vXFKSnQ6J50D6QVEP6itJu+wMDIr45A5iYGc0bjWqvt5BaejVy31lcNciStWQy5seEJHM6t2enNJGLRyRRESpgI1RTETkRP186l95WHI1ae6bnPm2JmYKdYu5qIgJFQRu/EnQiBBMgglzqQrDUnmVW1YLZ9f79YyvfV3XzfeZQzZaThZo8ycBWFWUI3l2SNZcIWNhqSptcQZy46xwzbNf/jwNe//o+n/fpPrdBraIrUDNRFVySfVAEysY09jtLVgIXFGROUyz+9Xh2ap1l8++Xc1uIt/WJ+VMC8mLy3WSzVaEFWpBOJRky+amCASO21YYcw4Hf+U+rP1p0b36uV379xvLm44Hst8WN/WbW0bNRenMuVcFAxG20Bc25I9m4pQ5HCYLv5W6Y+cLNj44k/pl0/WhfTTj5uPJ/44vdxEpwOCtTrLnHVpcksrycpxTKkpI9RdpY7vATQoXSz/5re/WvcqlYfux/Pz1Wv5/vl5sRgjKtGJVD0tvqIMqIiVwqzrOIxGmW3VkdYSdrp8pY/TDWPzvry/uuhO6eHhvDVaSQEtKjgrzhOmAE1bI6NSzQUXALuIryIMEgt4WA9nZG9C8A/ueljLsGsNOY0ABUCrqqKV2W71uD9KqVbAqIJHqwnAWxY8jC+VD5FcrrDwLtLFWENkBZK4AM7ELX31/vXvUnPmoiNgwKwbIahyVmos9xOPro6Ry6JtK1r0ULccldaGctJFQSp06D558w7WhXgiB6CFmPNJkL1Ml11Kh00Fgk0qWLS2l9GjhZhQeoijXrqE/xy7Wr+GWBVHyggWkcAqYQhFS0ogRACIENEGAzbpEsHpEhO13cORCl2EN+hCqr0pmiMqJVlB9sU1CrkwFBbhXFhSQKdQUlI8kzJdOozmi/eFXvtm8ilUrLJmUFqTkmWhmrQCAC6SijAIJtQQWbMguJwoLtzK4/GcaJ1967sYCytiBRJiFk2OKhRBVVBYEDVlVxSSQGa2sahsjR/UJt0h2WoohrXB2WYmAQFmRLIgiFJEiYKiSRg0AiqR4jzULMm2dlj8zUheVn4bGWIAL0Vh61N2GjIJaClFADQnRCugRECgymWKbbYRm7NHd+co1Cf7GC0XZE/Z6pEVxyJOMQhy4YLAqWgCFqMw8WKoiYequCh2Myqm4umo4hi1A1ZTBreIr0mXrFRhBpRUpMQCxtSmZN1pT0QawpxSRmv2xKBrDWCSyjZSaI/DAldNAKRImRFSRg1q0UE61zhORAzEHkoKxRUlFC1CZhDOpU+lUtN2vcjSBByh1iKzVkUoZiLPaawJGFhnIRalysliUh0VUKSQFj6cdlzWz+XupERlQrXEmWEBnQplW2maOSkEB8iTaCticFZkxtmpHIsBqNKVMjJPFzEFm1WDGBG9zgGz6ZRznuZgajUlVyiwZmMxbSgWMaItnjQBx2AJ6HKeZ20UTGOfH6lRDEordEK8fGx3sZk3dtpBXamTUUQ+p5zRKge4mD36SjeLrOv31qagfKw46VrVKgOAKWwcRtvBQgsgEEWsSTizaFRYvFvaI+9rM23I9sfDytnv1ZNdfYwriJSDW/ZhrXKxXdL44qcwc3+kjnIWV4ARcoWplKpJjS5z1yhVVj/UGDO7ZslFBbPv/uelyMkJGJzDzWkKedmW/we2tN4FnamjfQAAAABJRU5ErkJggg==\" class=\"ndarray_image_preview\" /><pre class=\"ndarray_raw_data\">array([[174, 160, 172, ..., 182, 223, 244],\n",
              "       [213, 226, 184, ..., 223, 217, 154],\n",
              "       [163, 202, 194, ..., 165, 127, 135],\n",
              "       ...,\n",
              "       [137, 131, 122, ...,  99, 100, 114],\n",
              "       [136, 129, 118, ...,  85,  89, 112],\n",
              "       [132, 125, 117, ...,  73,  91, 109]], dtype=uint8)</pre></div><script>\n",
              "      (() => {\n",
              "      const titles = ['show data', 'hide data'];\n",
              "      let index = 0\n",
              "      document.querySelector('#id-250ed40e-9584-4e6f-9271-13a9b34229e6 button').onclick = (e) => {\n",
              "        document.querySelector('#id-250ed40e-9584-4e6f-9271-13a9b34229e6').classList.toggle('show_array');\n",
              "        index = (++index) % 2;\n",
              "        document.querySelector('#id-250ed40e-9584-4e6f-9271-13a9b34229e6 button').textContent = titles[index];\n",
              "        e.preventDefault();\n",
              "        e.stopPropagation();\n",
              "      }\n",
              "      })();\n",
              "    </script>"
            ],
            "text/plain": [
              "array([[174, 160, 172, ..., 182, 223, 244],\n",
              "       [213, 226, 184, ..., 223, 217, 154],\n",
              "       [163, 202, 194, ..., 165, 127, 135],\n",
              "       ...,\n",
              "       [137, 131, 122, ...,  99, 100, 114],\n",
              "       [136, 129, 118, ...,  85,  89, 112],\n",
              "       [132, 125, 117, ...,  73,  91, 109]], dtype=uint8)"
            ]
          },
          "execution_count": 79,
          "metadata": {},
          "output_type": "execute_result"
        }
      ],
      "source": [
        "images[0]"
      ]
    },
    {
      "cell_type": "code",
      "execution_count": 80,
      "metadata": {
        "colab": {
          "base_uri": "https://localhost:8080/"
        },
        "id": "WkaIICDx2oEy",
        "outputId": "ffdcdae5-c7e6-462f-f49e-f63f95195600"
      },
      "outputs": [
        {
          "name": "stdout",
          "output_type": "stream",
          "text": [
            "MSE: 0.000000000000000e+00\n",
            "MSE: 2.051396605071579e-05\n"
          ]
        }
      ],
      "source": [
        "def mse(matrix1, matrix2):\n",
        "    # Преобразуем входные данные в массивы NumPy\n",
        "    matrix1 = np.asarray(matrix1, dtype=np.float64)\n",
        "    matrix2 = np.asarray(matrix2, dtype=np.float64)\n",
        "    # Приводим размерности к одной форме\n",
        "    matrix1 = np.squeeze(matrix1)  # Убираем оси длиной 1\n",
        "    matrix2 = np.squeeze(matrix2)  # Убираем оси длиной 1\n",
        "    if matrix1.shape != matrix2.shape:\n",
        "        raise ValueError(f\"Размеры матриц не совпадают: {matrix1.shape} vs {matrix2.shape}\")\n",
        "    return np.mean(np.square(matrix1 - matrix2))\n",
        "\n",
        "# Преобразование тензоров в массивы NumPy\n",
        "image_np = images[0].cpu().detach().numpy() if isinstance(images[0], torch.Tensor) else images[0]\n",
        "output_np = outputs[0].cpu().detach().numpy() if isinstance(outputs[0], torch.Tensor) else outputs[0]\n",
        "\n",
        "print(f\"MSE: {mse(apply_convolution(image_np, [F2, F3_rounded, F1]), output_np):.15e}\")\n",
        "print(f\"MSE: {mse(apply_convolution(image_np, [F2, F3, F1]), output_np):.15e}\")"
      ]
    },
    {
      "cell_type": "code",
      "execution_count": 1,
      "metadata": {},
      "outputs": [
        {
          "name": "stdout",
          "output_type": "stream",
          "text": [
            "0.0\n",
            "0.02051396605071589\n"
          ]
        }
      ],
      "source": [
        "image_np = images[0].detach().numpy() if isinstance(images[0], torch.Tensor) else images[0]\n",
        "output_np = outputs[0].detach().numpy() if isinstance(outputs[0], torch.Tensor) else outputs[0]\n",
        "\n",
        "s1 = 0\n",
        "s2 = 0\n",
        "for i in range(len(images)):\n",
        "  s1 += mse(apply_convolution(image_np, [F2, F3, F1]), output_np)\n",
        "  s2 += mse(apply_convolution(image_np, [F2, F3_rounded, F1]), output_np)\n",
        "\n",
        "print(s2) # F3_rounded\n",
        "print(s1) # F3"
      ]
    }
  ],
  "metadata": {
    "accelerator": "GPU",
    "colab": {
      "gpuType": "T4",
      "provenance": []
    },
    "kernelspec": {
      "display_name": "Python 3",
      "name": "python3"
    },
    "language_info": {
      "codemirror_mode": {
        "name": "ipython",
        "version": 3
      },
      "file_extension": ".py",
      "mimetype": "text/x-python",
      "name": "python",
      "nbconvert_exporter": "python",
      "pygments_lexer": "ipython3",
      "version": "3.12.2"
    }
  },
  "nbformat": 4,
  "nbformat_minor": 0
}
